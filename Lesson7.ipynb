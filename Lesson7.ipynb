{
 "cells": [
  {
   "cell_type": "code",
   "execution_count": 1,
   "metadata": {},
   "outputs": [
    {
     "data": {
      "text/html": [
       "<div>\n",
       "<style scoped>\n",
       "    .dataframe tbody tr th:only-of-type {\n",
       "        vertical-align: middle;\n",
       "    }\n",
       "\n",
       "    .dataframe tbody tr th {\n",
       "        vertical-align: top;\n",
       "    }\n",
       "\n",
       "    .dataframe thead th {\n",
       "        text-align: right;\n",
       "    }\n",
       "</style>\n",
       "<table border=\"1\" class=\"dataframe\">\n",
       "  <thead>\n",
       "    <tr style=\"text-align: right;\">\n",
       "      <th></th>\n",
       "      <th>enrollee_id</th>\n",
       "      <th>city</th>\n",
       "      <th>city_development_index</th>\n",
       "      <th>gender</th>\n",
       "      <th>relevent_experience</th>\n",
       "      <th>enrolled_university</th>\n",
       "      <th>education_level</th>\n",
       "      <th>major_discipline</th>\n",
       "      <th>experience</th>\n",
       "      <th>company_size</th>\n",
       "      <th>company_type</th>\n",
       "      <th>last_new_job</th>\n",
       "      <th>training_hours</th>\n",
       "      <th>target</th>\n",
       "    </tr>\n",
       "  </thead>\n",
       "  <tbody>\n",
       "    <tr>\n",
       "      <th>0</th>\n",
       "      <td>8949</td>\n",
       "      <td>city_103</td>\n",
       "      <td>0.920</td>\n",
       "      <td>Male</td>\n",
       "      <td>Has relevent experience</td>\n",
       "      <td>no_enrollment</td>\n",
       "      <td>Graduate</td>\n",
       "      <td>STEM</td>\n",
       "      <td>&gt;20</td>\n",
       "      <td>NaN</td>\n",
       "      <td>NaN</td>\n",
       "      <td>1</td>\n",
       "      <td>36</td>\n",
       "      <td>1.0</td>\n",
       "    </tr>\n",
       "    <tr>\n",
       "      <th>1</th>\n",
       "      <td>29725</td>\n",
       "      <td>city_40</td>\n",
       "      <td>0.776</td>\n",
       "      <td>Male</td>\n",
       "      <td>No relevent experience</td>\n",
       "      <td>no_enrollment</td>\n",
       "      <td>Graduate</td>\n",
       "      <td>STEM</td>\n",
       "      <td>15</td>\n",
       "      <td>50-99</td>\n",
       "      <td>Pvt Ltd</td>\n",
       "      <td>&gt;4</td>\n",
       "      <td>47</td>\n",
       "      <td>0.0</td>\n",
       "    </tr>\n",
       "    <tr>\n",
       "      <th>2</th>\n",
       "      <td>11561</td>\n",
       "      <td>city_21</td>\n",
       "      <td>0.624</td>\n",
       "      <td>NaN</td>\n",
       "      <td>No relevent experience</td>\n",
       "      <td>Full time course</td>\n",
       "      <td>Graduate</td>\n",
       "      <td>STEM</td>\n",
       "      <td>5</td>\n",
       "      <td>NaN</td>\n",
       "      <td>NaN</td>\n",
       "      <td>never</td>\n",
       "      <td>83</td>\n",
       "      <td>0.0</td>\n",
       "    </tr>\n",
       "    <tr>\n",
       "      <th>3</th>\n",
       "      <td>33241</td>\n",
       "      <td>city_115</td>\n",
       "      <td>0.789</td>\n",
       "      <td>NaN</td>\n",
       "      <td>No relevent experience</td>\n",
       "      <td>NaN</td>\n",
       "      <td>Graduate</td>\n",
       "      <td>Business Degree</td>\n",
       "      <td>&lt;1</td>\n",
       "      <td>NaN</td>\n",
       "      <td>Pvt Ltd</td>\n",
       "      <td>never</td>\n",
       "      <td>52</td>\n",
       "      <td>1.0</td>\n",
       "    </tr>\n",
       "    <tr>\n",
       "      <th>4</th>\n",
       "      <td>666</td>\n",
       "      <td>city_162</td>\n",
       "      <td>0.767</td>\n",
       "      <td>Male</td>\n",
       "      <td>Has relevent experience</td>\n",
       "      <td>no_enrollment</td>\n",
       "      <td>Masters</td>\n",
       "      <td>STEM</td>\n",
       "      <td>&gt;20</td>\n",
       "      <td>50-99</td>\n",
       "      <td>Funded Startup</td>\n",
       "      <td>4</td>\n",
       "      <td>8</td>\n",
       "      <td>0.0</td>\n",
       "    </tr>\n",
       "    <tr>\n",
       "      <th>5</th>\n",
       "      <td>21651</td>\n",
       "      <td>city_176</td>\n",
       "      <td>0.764</td>\n",
       "      <td>NaN</td>\n",
       "      <td>Has relevent experience</td>\n",
       "      <td>Part time course</td>\n",
       "      <td>Graduate</td>\n",
       "      <td>STEM</td>\n",
       "      <td>11</td>\n",
       "      <td>NaN</td>\n",
       "      <td>NaN</td>\n",
       "      <td>1</td>\n",
       "      <td>24</td>\n",
       "      <td>1.0</td>\n",
       "    </tr>\n",
       "    <tr>\n",
       "      <th>6</th>\n",
       "      <td>28806</td>\n",
       "      <td>city_160</td>\n",
       "      <td>0.920</td>\n",
       "      <td>Male</td>\n",
       "      <td>Has relevent experience</td>\n",
       "      <td>no_enrollment</td>\n",
       "      <td>High School</td>\n",
       "      <td>NaN</td>\n",
       "      <td>5</td>\n",
       "      <td>50-99</td>\n",
       "      <td>Funded Startup</td>\n",
       "      <td>1</td>\n",
       "      <td>24</td>\n",
       "      <td>0.0</td>\n",
       "    </tr>\n",
       "    <tr>\n",
       "      <th>7</th>\n",
       "      <td>402</td>\n",
       "      <td>city_46</td>\n",
       "      <td>0.762</td>\n",
       "      <td>Male</td>\n",
       "      <td>Has relevent experience</td>\n",
       "      <td>no_enrollment</td>\n",
       "      <td>Graduate</td>\n",
       "      <td>STEM</td>\n",
       "      <td>13</td>\n",
       "      <td>&lt;10</td>\n",
       "      <td>Pvt Ltd</td>\n",
       "      <td>&gt;4</td>\n",
       "      <td>18</td>\n",
       "      <td>1.0</td>\n",
       "    </tr>\n",
       "    <tr>\n",
       "      <th>8</th>\n",
       "      <td>27107</td>\n",
       "      <td>city_103</td>\n",
       "      <td>0.920</td>\n",
       "      <td>Male</td>\n",
       "      <td>Has relevent experience</td>\n",
       "      <td>no_enrollment</td>\n",
       "      <td>Graduate</td>\n",
       "      <td>STEM</td>\n",
       "      <td>7</td>\n",
       "      <td>50-99</td>\n",
       "      <td>Pvt Ltd</td>\n",
       "      <td>1</td>\n",
       "      <td>46</td>\n",
       "      <td>1.0</td>\n",
       "    </tr>\n",
       "    <tr>\n",
       "      <th>9</th>\n",
       "      <td>699</td>\n",
       "      <td>city_103</td>\n",
       "      <td>0.920</td>\n",
       "      <td>NaN</td>\n",
       "      <td>Has relevent experience</td>\n",
       "      <td>no_enrollment</td>\n",
       "      <td>Graduate</td>\n",
       "      <td>STEM</td>\n",
       "      <td>17</td>\n",
       "      <td>10000+</td>\n",
       "      <td>Pvt Ltd</td>\n",
       "      <td>&gt;4</td>\n",
       "      <td>123</td>\n",
       "      <td>0.0</td>\n",
       "    </tr>\n",
       "  </tbody>\n",
       "</table>\n",
       "</div>"
      ],
      "text/plain": [
       "   enrollee_id      city  city_development_index gender  \\\n",
       "0         8949  city_103                   0.920   Male   \n",
       "1        29725   city_40                   0.776   Male   \n",
       "2        11561   city_21                   0.624    NaN   \n",
       "3        33241  city_115                   0.789    NaN   \n",
       "4          666  city_162                   0.767   Male   \n",
       "5        21651  city_176                   0.764    NaN   \n",
       "6        28806  city_160                   0.920   Male   \n",
       "7          402   city_46                   0.762   Male   \n",
       "8        27107  city_103                   0.920   Male   \n",
       "9          699  city_103                   0.920    NaN   \n",
       "\n",
       "       relevent_experience enrolled_university education_level  \\\n",
       "0  Has relevent experience       no_enrollment        Graduate   \n",
       "1   No relevent experience       no_enrollment        Graduate   \n",
       "2   No relevent experience    Full time course        Graduate   \n",
       "3   No relevent experience                 NaN        Graduate   \n",
       "4  Has relevent experience       no_enrollment         Masters   \n",
       "5  Has relevent experience    Part time course        Graduate   \n",
       "6  Has relevent experience       no_enrollment     High School   \n",
       "7  Has relevent experience       no_enrollment        Graduate   \n",
       "8  Has relevent experience       no_enrollment        Graduate   \n",
       "9  Has relevent experience       no_enrollment        Graduate   \n",
       "\n",
       "  major_discipline experience company_size    company_type last_new_job  \\\n",
       "0             STEM        >20          NaN             NaN            1   \n",
       "1             STEM         15        50-99         Pvt Ltd           >4   \n",
       "2             STEM          5          NaN             NaN        never   \n",
       "3  Business Degree         <1          NaN         Pvt Ltd        never   \n",
       "4             STEM        >20        50-99  Funded Startup            4   \n",
       "5             STEM         11          NaN             NaN            1   \n",
       "6              NaN          5        50-99  Funded Startup            1   \n",
       "7             STEM         13          <10         Pvt Ltd           >4   \n",
       "8             STEM          7        50-99         Pvt Ltd            1   \n",
       "9             STEM         17       10000+         Pvt Ltd           >4   \n",
       "\n",
       "   training_hours  target  \n",
       "0              36     1.0  \n",
       "1              47     0.0  \n",
       "2              83     0.0  \n",
       "3              52     1.0  \n",
       "4               8     0.0  \n",
       "5              24     1.0  \n",
       "6              24     0.0  \n",
       "7              18     1.0  \n",
       "8              46     1.0  \n",
       "9             123     0.0  "
      ]
     },
     "execution_count": 1,
     "metadata": {},
     "output_type": "execute_result"
    }
   ],
   "source": [
    "#Загрузим библиотеки и посмотрим на данные\n",
    "import pandas as pd\n",
    "import numpy as np\n",
    "from sklearn.pipeline import Pipeline, make_pipeline\n",
    "from sklearn.base import BaseEstimator, TransformerMixin\n",
    "from sklearn.linear_model import LogisticRegression\n",
    "from sklearn.model_selection import train_test_split\n",
    "#from sklearn.feature_extraction.text import TfidfVectorizer\n",
    "import itertools\n",
    "\n",
    "import matplotlib.pyplot as plt\n",
    "\n",
    "%matplotlib inline\n",
    "df = pd.read_csv(\"./aug_train.csv\")\n",
    "df.head(10)"
   ]
  },
  {
   "cell_type": "markdown",
   "metadata": {},
   "source": [
    "enrollee_id: уникальный идентификатор кандидата\n",
    "\n",
    "city: Код города\n",
    "\n",
    "city_development_index: индекс развития города (в масштабе)\n",
    "\n",
    "gender: Пол кандидата\n",
    "\n",
    "relvent_experience: Соответствующий опыт кандидата\n",
    "\n",
    "enrolled_university: Тип зачисленных университетских курсов, если таковые имеются\n",
    "\n",
    "education_level: Уровень образования кандидата\n",
    "\n",
    "major_discipline: Обучение основной дисциплине кандидата\n",
    "\n",
    "experience: Кандидатский общий стаж в годах\n",
    "\n",
    "company_size: Количество сотрудников в компании текущего работодателя\n",
    "\n",
    "company_type: Тип текущего работодателя\n",
    "\n",
    "last_new_job: разница в годах между предыдущей работой и текущей работой\n",
    "\n",
    "training_hours: завершенные часы обучения\n",
    "\n",
    "target: 0 - Не ищу смены работы, 1 - Ищу смены работы"
   ]
  },
  {
   "cell_type": "code",
   "execution_count": 2,
   "metadata": {},
   "outputs": [
    {
     "name": "stdout",
     "output_type": "stream",
     "text": [
      "<class 'pandas.core.frame.DataFrame'>\n",
      "RangeIndex: 19158 entries, 0 to 19157\n",
      "Data columns (total 14 columns):\n",
      " #   Column                  Non-Null Count  Dtype  \n",
      "---  ------                  --------------  -----  \n",
      " 0   enrollee_id             19158 non-null  int64  \n",
      " 1   city                    19158 non-null  object \n",
      " 2   city_development_index  19158 non-null  float64\n",
      " 3   gender                  14650 non-null  object \n",
      " 4   relevent_experience     19158 non-null  object \n",
      " 5   enrolled_university     18772 non-null  object \n",
      " 6   education_level         18698 non-null  object \n",
      " 7   major_discipline        16345 non-null  object \n",
      " 8   experience              19093 non-null  object \n",
      " 9   company_size            13220 non-null  object \n",
      " 10  company_type            13018 non-null  object \n",
      " 11  last_new_job            18735 non-null  object \n",
      " 12  training_hours          19158 non-null  int64  \n",
      " 13  target                  19158 non-null  float64\n",
      "dtypes: float64(2), int64(2), object(10)\n",
      "memory usage: 2.0+ MB\n"
     ]
    }
   ],
   "source": [
    "df.info()"
   ]
  },
  {
   "cell_type": "code",
   "execution_count": 3,
   "metadata": {},
   "outputs": [
    {
     "data": {
      "text/plain": [
       "0.0    14381\n",
       "1.0     4777\n",
       "Name: target, dtype: int64"
      ]
     },
     "execution_count": 3,
     "metadata": {},
     "output_type": "execute_result"
    }
   ],
   "source": [
    "df['target'].value_counts()"
   ]
  },
  {
   "cell_type": "code",
   "execution_count": 4,
   "metadata": {},
   "outputs": [
    {
     "data": {
      "text/plain": [
       "(19158, 14)"
      ]
     },
     "execution_count": 4,
     "metadata": {},
     "output_type": "execute_result"
    }
   ],
   "source": [
    "df.shape"
   ]
  },
  {
   "cell_type": "code",
   "execution_count": 5,
   "metadata": {},
   "outputs": [
    {
     "data": {
      "text/plain": [
       "enrollee_id                  0\n",
       "city                         0\n",
       "city_development_index       0\n",
       "gender                    4508\n",
       "relevent_experience          0\n",
       "enrolled_university        386\n",
       "education_level            460\n",
       "major_discipline          2813\n",
       "experience                  65\n",
       "company_size              5938\n",
       "company_type              6140\n",
       "last_new_job               423\n",
       "training_hours               0\n",
       "target                       0\n",
       "dtype: int64"
      ]
     },
     "execution_count": 5,
     "metadata": {},
     "output_type": "execute_result"
    }
   ],
   "source": [
    "df.isna().sum()"
   ]
  },
  {
   "cell_type": "code",
   "execution_count": 6,
   "metadata": {},
   "outputs": [],
   "source": [
    "#заполним пробелы\n",
    "for column in ['gender','enrolled_university','education_level','major_discipline', 'experience', 'company_size', 'company_type','last_new_job']:\n",
    "    df[column].fillna(df[column].mode()[0], inplace=True)"
   ]
  },
  {
   "cell_type": "code",
   "execution_count": 7,
   "metadata": {},
   "outputs": [
    {
     "data": {
      "text/plain": [
       "enrollee_id               0\n",
       "city                      0\n",
       "city_development_index    0\n",
       "gender                    0\n",
       "relevent_experience       0\n",
       "enrolled_university       0\n",
       "education_level           0\n",
       "major_discipline          0\n",
       "experience                0\n",
       "company_size              0\n",
       "company_type              0\n",
       "last_new_job              0\n",
       "training_hours            0\n",
       "target                    0\n",
       "dtype: int64"
      ]
     },
     "execution_count": 7,
     "metadata": {},
     "output_type": "execute_result"
    }
   ],
   "source": [
    "df.isna().sum()"
   ]
  },
  {
   "cell_type": "code",
   "execution_count": 8,
   "metadata": {},
   "outputs": [],
   "source": [
    "#удалим ненужные фичи\n",
    "df = df.drop(columns=[\"enrollee_id\"])\n"
   ]
  },
  {
   "cell_type": "code",
   "execution_count": 9,
   "metadata": {},
   "outputs": [
    {
     "data": {
      "text/plain": [
       "Male      17729\n",
       "Female     1238\n",
       "Other       191\n",
       "Name: gender, dtype: int64"
      ]
     },
     "execution_count": 9,
     "metadata": {},
     "output_type": "execute_result"
    }
   ],
   "source": [
    "df['gender'].value_counts()"
   ]
  },
  {
   "cell_type": "code",
   "execution_count": 10,
   "metadata": {},
   "outputs": [
    {
     "data": {
      "text/plain": [
       "1    17729\n",
       "0     1429\n",
       "Name: gender, dtype: int64"
      ]
     },
     "execution_count": 10,
     "metadata": {},
     "output_type": "execute_result"
    }
   ],
   "source": [
    "df = df.replace({'gender':{'Male':1, 'Female':0, 'Other': 0}})\n",
    "df = df.astype({'gender': np.int64})\n",
    "\n",
    "df['gender'].value_counts()"
   ]
  },
  {
   "cell_type": "code",
   "execution_count": 11,
   "metadata": {},
   "outputs": [
    {
     "data": {
      "text/plain": [
       "no_enrollment       14203\n",
       "Full time course     3757\n",
       "Part time course     1198\n",
       "Name: enrolled_university, dtype: int64"
      ]
     },
     "execution_count": 11,
     "metadata": {},
     "output_type": "execute_result"
    }
   ],
   "source": [
    "df['enrolled_university'].value_counts()"
   ]
  },
  {
   "cell_type": "code",
   "execution_count": 12,
   "metadata": {},
   "outputs": [
    {
     "data": {
      "text/plain": [
       "1    14203\n",
       "0     3757\n",
       "2     1198\n",
       "Name: enrolled_university, dtype: int64"
      ]
     },
     "execution_count": 12,
     "metadata": {},
     "output_type": "execute_result"
    }
   ],
   "source": [
    "df = df.replace({'enrolled_university':{'no_enrollment':1, 'Full time course':0, 'Part time course': 2}})\n",
    "df = df.astype({'enrolled_university': np.int64})\n",
    "\n",
    "df['enrolled_university'].value_counts()"
   ]
  },
  {
   "cell_type": "code",
   "execution_count": 13,
   "metadata": {},
   "outputs": [
    {
     "data": {
      "text/plain": [
       "Graduate          12058\n",
       "Masters            4361\n",
       "High School        2017\n",
       "Phd                 414\n",
       "Primary School      308\n",
       "Name: education_level, dtype: int64"
      ]
     },
     "execution_count": 13,
     "metadata": {},
     "output_type": "execute_result"
    }
   ],
   "source": [
    "df['education_level'].value_counts() "
   ]
  },
  {
   "cell_type": "code",
   "execution_count": 14,
   "metadata": {},
   "outputs": [
    {
     "data": {
      "text/plain": [
       "0    12058\n",
       "1     4361\n",
       "2     2017\n",
       "3      414\n",
       "4      308\n",
       "Name: education_level, dtype: int64"
      ]
     },
     "execution_count": 14,
     "metadata": {},
     "output_type": "execute_result"
    }
   ],
   "source": [
    "df = df.replace({'education_level':{'Graduate':0, 'Masters':1, 'High School': 2, 'Phd': 3, 'Primary School': 4}})\n",
    "df = df.astype({'education_level': np.int64})\n",
    "\n",
    "df['education_level'].value_counts()"
   ]
  },
  {
   "cell_type": "code",
   "execution_count": 15,
   "metadata": {},
   "outputs": [
    {
     "data": {
      "text/plain": [
       "50-99        9021\n",
       "100-500      2571\n",
       "10000+       2019\n",
       "10/49        1471\n",
       "1000-4999    1328\n",
       "<10          1308\n",
       "500-999       877\n",
       "5000-9999     563\n",
       "Name: company_size, dtype: int64"
      ]
     },
     "execution_count": 15,
     "metadata": {},
     "output_type": "execute_result"
    }
   ],
   "source": [
    "df['company_size'].value_counts()"
   ]
  },
  {
   "cell_type": "code",
   "execution_count": 16,
   "metadata": {},
   "outputs": [
    {
     "data": {
      "text/plain": [
       "0    9021\n",
       "1    2571\n",
       "2    2019\n",
       "3    1471\n",
       "4    1328\n",
       "5    1308\n",
       "6     877\n",
       "7     563\n",
       "Name: company_size, dtype: int64"
      ]
     },
     "execution_count": 16,
     "metadata": {},
     "output_type": "execute_result"
    }
   ],
   "source": [
    "df = df.replace({'company_size':{'50-99':0, '100-500':1, '10000+':2, '10/49':3, '1000-4999':4, '<10':5, '500-999':6, '5000-9999':7}})\n",
    "df = df.astype({'company_size': np.int64})\n",
    "\n",
    "df['company_size'].value_counts()"
   ]
  },
  {
   "cell_type": "code",
   "execution_count": 17,
   "metadata": {},
   "outputs": [],
   "source": [
    "#разделим данные на train/test\n",
    "X_train, X_test, y_train, y_test = train_test_split(df, df['target'], test_size=0.3, random_state=0)"
   ]
  },
  {
   "cell_type": "code",
   "execution_count": 18,
   "metadata": {},
   "outputs": [],
   "source": [
    "#соберем наш простой pipeline, но нам понадобится написать класс для выбора нужного поля\n",
    "class FeatureSelector(BaseEstimator, TransformerMixin):\n",
    "    def __init__(self, column):\n",
    "        self.column = column\n",
    "\n",
    "    def fit(self, X, y=None):\n",
    "        return self\n",
    "\n",
    "    def transform(self, X, y=None):\n",
    "        return X[self.column]\n",
    "    \n",
    "class NumberSelector(BaseEstimator, TransformerMixin):\n",
    "    \"\"\"\n",
    "    Transformer to select a single column from the data frame to perform additional transformations on\n",
    "    Use on numeric columns in the data\n",
    "    \"\"\"\n",
    "    def __init__(self, key):\n",
    "        self.key = key\n",
    "\n",
    "    def fit(self, X, y=None):\n",
    "        return self\n",
    "\n",
    "    def transform(self, X):\n",
    "        return X[[self.key]]\n",
    "    \n",
    "class OHEEncoder(BaseEstimator, TransformerMixin):\n",
    "    def __init__(self, key):\n",
    "        self.key = key\n",
    "        self.columns = []\n",
    "\n",
    "    def fit(self, X, y=None):\n",
    "        self.columns = [col for col in pd.get_dummies(X, prefix=self.key).columns]\n",
    "        return self\n",
    "\n",
    "    def transform(self, X):\n",
    "        X = pd.get_dummies(X, prefix=self.key)\n",
    "        test_columns = [col for col in X.columns]\n",
    "        for col_ in self.columns:\n",
    "            if col_ not in test_columns:\n",
    "                X[col_] = 0\n",
    "        return X[self.columns]"
   ]
  },
  {
   "cell_type": "code",
   "execution_count": 19,
   "metadata": {},
   "outputs": [
    {
     "data": {
      "text/plain": [
       "city                       object\n",
       "city_development_index    float64\n",
       "gender                      int64\n",
       "relevent_experience        object\n",
       "enrolled_university         int64\n",
       "education_level             int64\n",
       "major_discipline           object\n",
       "experience                 object\n",
       "company_size                int64\n",
       "company_type               object\n",
       "last_new_job               object\n",
       "training_hours              int64\n",
       "target                    float64\n",
       "dtype: object"
      ]
     },
     "execution_count": 19,
     "metadata": {},
     "output_type": "execute_result"
    }
   ],
   "source": [
    "df.dtypes"
   ]
  },
  {
   "cell_type": "code",
   "execution_count": 21,
   "metadata": {},
   "outputs": [],
   "source": [
    "#Список признаков\n",
    "categorical_columns = ['city', 'relevent_experience', 'major_discipline', 'experience', 'company_type', 'last_new_job']\n",
    "continuous_columns = ['city_development_index', 'gender', 'enrolled_university', 'education_level', 'company_size', 'training_hours']"
   ]
  },
  {
   "cell_type": "code",
   "execution_count": 22,
   "metadata": {},
   "outputs": [],
   "source": [
    "from sklearn.pipeline import Pipeline\n",
    "from sklearn.pipeline import FeatureUnion\n",
    "\n",
    "final_transformers = list()\n",
    "\n",
    "for cat_col in categorical_columns:\n",
    "    cat_transformer = Pipeline([\n",
    "                ('selector', FeatureSelector(column=cat_col)),\n",
    "                ('ohe', OHEEncoder(key=cat_col))\n",
    "            ])\n",
    "    final_transformers.append((cat_col, cat_transformer))\n",
    "    \n",
    "for cont_col in continuous_columns:\n",
    "    cont_transformer = Pipeline([\n",
    "                ('selector', NumberSelector(key=cont_col))\n",
    "            ])\n",
    "    final_transformers.append((cont_col, cont_transformer))"
   ]
  },
  {
   "cell_type": "code",
   "execution_count": 23,
   "metadata": {},
   "outputs": [],
   "source": [
    "feats = FeatureUnion(final_transformers)\n",
    "\n",
    "feature_processing = Pipeline([('feats', feats)])"
   ]
  },
  {
   "cell_type": "code",
   "execution_count": 24,
   "metadata": {},
   "outputs": [],
   "source": [
    "from sklearn.ensemble import GradientBoostingClassifier\n",
    "from sklearn.metrics import classification_report, confusion_matrix"
   ]
  },
  {
   "cell_type": "code",
   "execution_count": 25,
   "metadata": {},
   "outputs": [],
   "source": [
    "classifier = Pipeline([\n",
    "    ('features',feats),\n",
    "    ('classifier', GradientBoostingClassifier(random_state = 42)),\n",
    "])"
   ]
  },
  {
   "cell_type": "code",
   "execution_count": 26,
   "metadata": {},
   "outputs": [],
   "source": [
    "#Обучение модели\n",
    "classifier.fit(X_train, y_train)\n",
    "y_score = classifier.predict_proba(X_test)[:, 1]"
   ]
  },
  {
   "cell_type": "code",
   "execution_count": 27,
   "metadata": {},
   "outputs": [],
   "source": [
    "from sklearn.metrics import f1_score, roc_auc_score, precision_score, classification_report, precision_recall_curve, confusion_matrix"
   ]
  },
  {
   "cell_type": "code",
   "execution_count": 33,
   "metadata": {},
   "outputs": [],
   "source": [
    "import xgboost as xgb\n",
    "from sklearn.metrics import mean_absolute_error, r2_score"
   ]
  },
  {
   "cell_type": "code",
   "execution_count": 31,
   "metadata": {},
   "outputs": [
    {
     "data": {
      "text/plain": [
       "Pipeline(steps=[('features',\n",
       "                 FeatureUnion(transformer_list=[('city',\n",
       "                                                 Pipeline(steps=[('selector',\n",
       "                                                                  FeatureSelector(column='city')),\n",
       "                                                                 ('ohe',\n",
       "                                                                  OHEEncoder(key='city'))])),\n",
       "                                                ('relevent_experience',\n",
       "                                                 Pipeline(steps=[('selector',\n",
       "                                                                  FeatureSelector(column='relevent_experience')),\n",
       "                                                                 ('ohe',\n",
       "                                                                  OHEEncoder(key='relevent_experience'))])),\n",
       "                                                ('major_discipline',\n",
       "                                                 Pipeline(steps=[('sele...\n",
       "                              gamma=0, gpu_id=-1, importance_type=None,\n",
       "                              interaction_constraints='',\n",
       "                              learning_rate=0.300000012, max_delta_step=0,\n",
       "                              max_depth=6, min_child_weight=1, missing=nan,\n",
       "                              monotone_constraints='()', n_estimators=100,\n",
       "                              n_jobs=4, num_parallel_tree=1, predictor='auto',\n",
       "                              random_state=0, reg_alpha=0, reg_lambda=1,\n",
       "                              scale_pos_weight=1, subsample=1,\n",
       "                              tree_method='exact', validate_parameters=1,\n",
       "                              verbosity=None))])"
      ]
     },
     "execution_count": 31,
     "metadata": {},
     "output_type": "execute_result"
    }
   ],
   "source": [
    "regressor = Pipeline([\n",
    "    ('features',feats),\n",
    "    ('classifier', xgb.XGBRegressor()),\n",
    "])\n",
    "\n",
    "#обучим наш пайплайн\n",
    "regressor.fit(X_train, y_train)"
   ]
  },
  {
   "cell_type": "code",
   "execution_count": 34,
   "metadata": {},
   "outputs": [
    {
     "data": {
      "text/plain": [
       "(0.29508230454710316, 0.15855801200654684)"
      ]
     },
     "execution_count": 34,
     "metadata": {},
     "output_type": "execute_result"
    }
   ],
   "source": [
    "predictions =  regressor.predict(X_test)\n",
    " \n",
    "mean_absolute_error(y_pred=predictions, y_true=y_test), r2_score(y_pred=predictions, y_true=y_test)"
   ]
  },
  {
   "cell_type": "code",
   "execution_count": 41,
   "metadata": {},
   "outputs": [],
   "source": [
    "X_train, X_test, y_train, y_test = train_test_split(df[continuous_columns], df['target'], random_state=0)"
   ]
  },
  {
   "cell_type": "code",
   "execution_count": 43,
   "metadata": {},
   "outputs": [],
   "source": [
    "import shap"
   ]
  },
  {
   "cell_type": "code",
   "execution_count": 44,
   "metadata": {},
   "outputs": [
    {
     "data": {
      "text/html": [
       "\n",
       "<div id='iHXG0LKS13T05NHPLKEE9'>\n",
       "<div style='color: #900; text-align: center;'>\n",
       "  <b>Visualization omitted, Javascript library not loaded!</b><br>\n",
       "  Have you run `initjs()` in this notebook? If this notebook was from another\n",
       "  user you must also trust this notebook (File -> Trust notebook). If you are viewing\n",
       "  this notebook on github the Javascript has been stripped for security. If you are using\n",
       "  JupyterLab this error is because a JupyterLab extension has not yet been written.\n",
       "</div></div>\n",
       " <script>\n",
       "   if (window.SHAP) SHAP.ReactDom.render(\n",
       "    SHAP.React.createElement(SHAP.AdditiveForceVisualizer, {\"outNames\": [\"f(x)\"], \"baseValue\": 0.34154146909713745, \"outValue\": 0.4030762016773224, \"link\": \"identity\", \"featureNames\": [\"city_development_index\", \"gender\", \"enrolled_university\", \"education_level\", \"company_size\", \"training_hours\"], \"features\": {\"0\": {\"effect\": -0.001155029982328415, \"value\": 0.92}, \"1\": {\"effect\": -0.0008493142086081207, \"value\": 0.0}, \"2\": {\"effect\": -0.018970588222146034, \"value\": 1.0}, \"3\": {\"effect\": 0.013902080245316029, \"value\": 0.0}, \"4\": {\"effect\": 0.06791035085916519, \"value\": 0.0}, \"5\": {\"effect\": 0.0006972359260544181, \"value\": 31.0}}, \"plot_cmap\": \"RdBu\", \"labelMargin\": 20}),\n",
       "    document.getElementById('iHXG0LKS13T05NHPLKEE9')\n",
       "  );\n",
       "</script>"
      ],
      "text/plain": [
       "<shap.plots._force.AdditiveForceVisualizer at 0x2399cb7e130>"
      ]
     },
     "execution_count": 44,
     "metadata": {},
     "output_type": "execute_result"
    }
   ],
   "source": [
    "model = xgb.train({\"learning_rate\": 0.01}, \n",
    "                      xgb.DMatrix(X_train, label=y_train), 100)\n",
    "\n",
    "# explain the model's predictions using SHAP\n",
    "# (same syntax works for LightGBM, CatBoost, scikit-learn and spark models)\n",
    "explainer = shap.TreeExplainer(model)\n",
    "shap_values = explainer.shap_values(X_train)\n",
    "\n",
    "# visualize the first prediction's explanation (use matplotlib=True to avoid Javascript)\n",
    "shap.force_plot(explainer.expected_value, shap_values[0,:], X_train.iloc[0,:])"
   ]
  },
  {
   "cell_type": "code",
   "execution_count": 45,
   "metadata": {},
   "outputs": [
    {
     "data": {
      "image/png": "[encoded data removed]",
      "text/plain": [
       "<Figure size 576x280.8 with 2 Axes>"
      ]
     },
     "metadata": {
      "needs_background": "light"
     },
     "output_type": "display_data"
    }
   ],
   "source": [
    "# summarize the effects of all the features\n",
    "shap.summary_plot(shap_values, X_train)"
   ]
  },
  {
   "cell_type": "code",
   "execution_count": 46,
   "metadata": {},
   "outputs": [
    {
     "data": {
      "image/png": "[encoded data removed]",
      "text/plain": [
       "<Figure size 576x280.8 with 1 Axes>"
      ]
     },
     "metadata": {
      "needs_background": "light"
     },
     "output_type": "display_data"
    }
   ],
   "source": [
    "shap.summary_plot(shap_values, X_train, plot_type=\"bar\")"
   ]
  },
  {
   "cell_type": "code",
   "execution_count": 49,
   "metadata": {},
   "outputs": [
    {
     "data": {
      "image/png": "[encoded data removed]",
      "text/plain": [
       "<Figure size 576x280.8 with 1 Axes>"
      ]
     },
     "metadata": {
      "needs_background": "light"
     },
     "output_type": "display_data"
    }
   ],
   "source": [
    "shap.summary_plot(shap_values, X_train['city_development_index'], plot_type=\"bar\")"
   ]
  },
  {
   "cell_type": "code",
   "execution_count": 56,
   "metadata": {},
   "outputs": [
    {
     "data": {
      "text/html": [
       "\n",
       "<div id='i4Q9X27T1LGLXM33NFGXX'>\n",
       "<div style='color: #900; text-align: center;'>\n",
       "  <b>Visualization omitted, Javascript library not loaded!</b><br>\n",
       "  Have you run `initjs()` in this notebook? If this notebook was from another\n",
       "  user you must also trust this notebook (File -> Trust notebook). If you are viewing\n",
       "  this notebook on github the Javascript has been stripped for security. If you are using\n",
       "  JupyterLab this error is because a JupyterLab extension has not yet been written.\n",
       "</div></div>\n",
       " <script>\n",
       "   if (window.SHAP) SHAP.ReactDom.render(\n",
       "    SHAP.React.createElement(SHAP.AdditiveForceVisualizer, {\"outNames\": [\"f(x)\"], \"baseValue\": 0.34154146909713745, \"outValue\": 0.4030762016773224, \"link\": \"identity\", \"featureNames\": [\"city_development_index\", \"gender\", \"enrolled_university\", \"education_level\", \"company_size\", \"training_hours\"], \"features\": {\"0\": {\"effect\": -0.001155029982328415, \"value\": 0.92}, \"1\": {\"effect\": -0.0008493142086081207, \"value\": 0.0}, \"2\": {\"effect\": -0.018970588222146034, \"value\": 1.0}, \"3\": {\"effect\": 0.013902080245316029, \"value\": 0.0}, \"4\": {\"effect\": 0.06791035085916519, \"value\": 0.0}, \"5\": {\"effect\": 0.0006972359260544181, \"value\": 31.0}}, \"plot_cmap\": \"RdBu\", \"labelMargin\": 20}),\n",
       "    document.getElementById('i4Q9X27T1LGLXM33NFGXX')\n",
       "  );\n",
       "</script>"
      ],
      "text/plain": [
       "<shap.plots._force.AdditiveForceVisualizer at 0x239a2c718b0>"
      ]
     },
     "execution_count": 56,
     "metadata": {},
     "output_type": "execute_result"
    }
   ],
   "source": [
    "shap.force_plot(explainer.expected_value, shap_values[0,:], X_train.iloc[0,:])"
   ]
  },
  {
   "cell_type": "code",
   "execution_count": 57,
   "metadata": {},
   "outputs": [
    {
     "data": {
      "text/html": [
       "\n",
       "<div id='iF70175OU7YEH73PL1C9L'>\n",
       "<div style='color: #900; text-align: center;'>\n",
       "  <b>Visualization omitted, Javascript library not loaded!</b><br>\n",
       "  Have you run `initjs()` in this notebook? If this notebook was from another\n",
       "  user you must also trust this notebook (File -> Trust notebook). If you are viewing\n",
       "  this notebook on github the Javascript has been stripped for security. If you are using\n",
       "  JupyterLab this error is because a JupyterLab extension has not yet been written.\n",
       "</div></div>\n",
       " <script>\n",
       "   if (window.SHAP) SHAP.ReactDom.render(\n",
       "    SHAP.React.createElement(SHAP.AdditiveForceArrayVisualizer, {\"outNames\": [\"f(x)\"], \"baseValue\": 0.34154146909713745, \"link\": \"identity\", \"featureNames\": [\"city_development_index\", \"gender\", \"enrolled_university\", \"education_level\", \"company_size\", \"training_hours\"], \"explanations\": [{\"outValue\": 0.4030762016773224, \"simIndex\": 95.0, \"features\": {\"0\": {\"effect\": -0.001155029982328415, \"value\": 0.92}, \"1\": {\"effect\": -0.0008493142086081207, \"value\": 0.0}, \"2\": {\"effect\": -0.018970588222146034, \"value\": 1.0}, \"3\": {\"effect\": 0.013902080245316029, \"value\": 0.0}, \"4\": {\"effect\": 0.06791035085916519, \"value\": 0.0}, \"5\": {\"effect\": 0.0006972359260544181, \"value\": 31.0}}}, {\"outValue\": 0.2459358125925064, \"simIndex\": 61.0, \"features\": {\"0\": {\"effect\": -0.06218837574124336, \"value\": 0.91}, \"1\": {\"effect\": -0.0016332730883732438, \"value\": 1.0}, \"2\": {\"effect\": 0.0034290971234440804, \"value\": 2.0}, \"3\": {\"effect\": -0.007288391701877117, \"value\": 3.0}, \"4\": {\"effect\": -0.032310862094163895, \"value\": 4.0}, \"5\": {\"effect\": 0.0043861535377800465, \"value\": 29.0}}}, {\"outValue\": 0.2361275851726532, \"simIndex\": 59.0, \"features\": {\"0\": {\"effect\": -0.06584178656339645, \"value\": 0.899}, \"1\": {\"effect\": -0.00033580788294784725, \"value\": 1.0}, \"2\": {\"effect\": -0.006549003999680281, \"value\": 1.0}, \"3\": {\"effect\": -0.002260469365864992, \"value\": 1.0}, \"4\": {\"effect\": -0.03189561888575554, \"value\": 5.0}, \"5\": {\"effect\": 0.0014687946531921625, \"value\": 55.0}}}, {\"outValue\": 0.5588427782058716, \"simIndex\": 4.0, \"features\": {\"0\": {\"effect\": 0.23950764536857605, \"value\": 0.624}, \"1\": {\"effect\": 0.0006599071784876287, \"value\": 1.0}, \"2\": {\"effect\": -0.003518432378768921, \"value\": 1.0}, \"3\": {\"effect\": 0.000587117625400424, \"value\": 1.0}, \"4\": {\"effect\": -0.020251095294952393, \"value\": 2.0}, \"5\": {\"effect\": 0.00031615575426258147, \"value\": 56.0}}}, {\"outValue\": 0.22750741243362427, \"simIndex\": 30.0, \"features\": {\"0\": {\"effect\": -0.043494436889886856, \"value\": 0.92}, \"1\": {\"effect\": -0.0003387779579497874, \"value\": 1.0}, \"2\": {\"effect\": -0.00806771032512188, \"value\": 1.0}, \"3\": {\"effect\": 0.0047658770345151424, \"value\": 0.0}, \"4\": {\"effect\": -0.06307033449411392, \"value\": 2.0}, \"5\": {\"effect\": -0.0038286782801151276, \"value\": 64.0}}}, {\"outValue\": 0.23205065727233887, \"simIndex\": 55.0, \"features\": {\"0\": {\"effect\": -0.06956924498081207, \"value\": 0.91}, \"1\": {\"effect\": -0.00040879417792893946, \"value\": 1.0}, \"2\": {\"effect\": -0.0034356554970145226, \"value\": 1.0}, \"3\": {\"effect\": -0.002367329318076372, \"value\": 1.0}, \"4\": {\"effect\": -0.02670418843626976, \"value\": 3.0}, \"5\": {\"effect\": -0.007005602121353149, \"value\": 170.0}}}, {\"outValue\": 0.49113011360168457, \"simIndex\": 83.0, \"features\": {\"0\": {\"effect\": -0.007754638325423002, \"value\": 0.698}, \"1\": {\"effect\": -0.00011151432408951223, \"value\": 1.0}, \"2\": {\"effect\": 0.05603652447462082, \"value\": 0.0}, \"3\": {\"effect\": 0.024629933759570122, \"value\": 0.0}, \"4\": {\"effect\": 0.07248154282569885, \"value\": 0.0}, \"5\": {\"effect\": 0.004306788090616465, \"value\": 53.0}}}, {\"outValue\": 0.5636116862297058, \"simIndex\": 18.0, \"features\": {\"0\": {\"effect\": 0.15202142298221588, \"value\": 0.624}, \"1\": {\"effect\": 0.0011026435531675816, \"value\": 1.0}, \"2\": {\"effect\": 0.025601891800761223, \"value\": 0.0}, \"3\": {\"effect\": 0.011621987447142601, \"value\": 0.0}, \"4\": {\"effect\": 0.027364490553736687, \"value\": 0.0}, \"5\": {\"effect\": 0.004357765428721905, \"value\": 36.0}}}, {\"outValue\": 0.5802187323570251, \"simIndex\": 6.0, \"features\": {\"0\": {\"effect\": 0.2444121390581131, \"value\": 0.624}, \"1\": {\"effect\": 0.0006998640019446611, \"value\": 1.0}, \"2\": {\"effect\": -0.004350411705672741, \"value\": 1.0}, \"3\": {\"effect\": 0.009084918536245823, \"value\": 0.0}, \"4\": {\"effect\": -0.016464585438370705, \"value\": 6.0}, \"5\": {\"effect\": 0.005295355338603258, \"value\": 70.0}}}, {\"outValue\": 0.293722003698349, \"simIndex\": 81.0, \"features\": {\"0\": {\"effect\": -0.07559822499752045, \"value\": 0.89}, \"1\": {\"effect\": -0.0001567345898365602, \"value\": 1.0}, \"2\": {\"effect\": 0.04511367529630661, \"value\": 0.0}, \"3\": {\"effect\": -0.06263232976198196, \"value\": 2.0}, \"4\": {\"effect\": 0.03844742476940155, \"value\": 0.0}, \"5\": {\"effect\": 0.007006732746958733, \"value\": 114.0}}}, {\"outValue\": 0.24239425361156464, \"simIndex\": 36.0, \"features\": {\"0\": {\"effect\": -0.04432094097137451, \"value\": 0.92}, \"1\": {\"effect\": 0.0024120635353028774, \"value\": 0.0}, \"2\": {\"effect\": -0.008529051207005978, \"value\": 1.0}, \"3\": {\"effect\": 0.004751358646899462, \"value\": 0.0}, \"4\": {\"effect\": -0.05610557645559311, \"value\": 3.0}, \"5\": {\"effect\": 0.00264493259601295, \"value\": 29.0}}}, {\"outValue\": 0.3165847957134247, \"simIndex\": 68.0, \"features\": {\"0\": {\"effect\": -0.06853898614645004, \"value\": 0.8270000000000001}, \"1\": {\"effect\": -8.019094821065664e-05, \"value\": 1.0}, \"2\": {\"effect\": -0.02103152871131897, \"value\": 1.0}, \"3\": {\"effect\": 0.01827787421643734, \"value\": 0.0}, \"4\": {\"effect\": 0.04673973098397255, \"value\": 0.0}, \"5\": {\"effect\": -0.0003235730982851237, \"value\": 89.0}}}, {\"outValue\": 0.2815113663673401, \"simIndex\": 71.0, \"features\": {\"0\": {\"effect\": -0.07759400457143784, \"value\": 0.866}, \"1\": {\"effect\": -7.34767600079067e-05, \"value\": 1.0}, \"2\": {\"effect\": -0.015617419965565205, \"value\": 1.0}, \"3\": {\"effect\": -0.007510004099458456, \"value\": 1.0}, \"4\": {\"effect\": 0.03779003396630287, \"value\": 0.0}, \"5\": {\"effect\": 0.0029747767839580774, \"value\": 54.0}}}, {\"outValue\": 0.5722946524620056, \"simIndex\": 13.0, \"features\": {\"0\": {\"effect\": 0.19663852453231812, \"value\": 0.624}, \"1\": {\"effect\": 0.0005188799696043134, \"value\": 1.0}, \"2\": {\"effect\": -0.007672479841858149, \"value\": 1.0}, \"3\": {\"effect\": 0.012376747094094753, \"value\": 0.0}, \"4\": {\"effect\": 0.022403210401535034, \"value\": 0.0}, \"5\": {\"effect\": 0.0064882864244282246, \"value\": 11.0}}}, {\"outValue\": 0.2325589507818222, \"simIndex\": 42.0, \"features\": {\"0\": {\"effect\": -0.07971231639385223, \"value\": 0.926}, \"1\": {\"effect\": -0.00029302810435183346, \"value\": 1.0}, \"2\": {\"effect\": -0.00871354341506958, \"value\": 1.0}, \"3\": {\"effect\": 0.004030569922178984, \"value\": 0.0}, \"4\": {\"effect\": -0.025578787550330162, \"value\": 3.0}, \"5\": {\"effect\": 0.0012845933670178056, \"value\": 21.0}}}, {\"outValue\": 0.402143269777298, \"simIndex\": 100.0, \"features\": {\"0\": {\"effect\": -0.0010229602921754122, \"value\": 0.92}, \"1\": {\"effect\": -8.669729868415743e-05, \"value\": 1.0}, \"2\": {\"effect\": -0.004420027136802673, \"value\": 1.0}, \"3\": {\"effect\": 0.013798722997307777, \"value\": 0.0}, \"4\": {\"effect\": 0.0676075741648674, \"value\": 0.0}, \"5\": {\"effect\": -0.01527480874210596, \"value\": 212.0}}}, {\"outValue\": 0.2315974086523056, \"simIndex\": 44.0, \"features\": {\"0\": {\"effect\": -0.07545270770788193, \"value\": 0.939}, \"1\": {\"effect\": -0.0003193689917679876, \"value\": 1.0}, \"2\": {\"effect\": -0.007374653592705727, \"value\": 1.0}, \"3\": {\"effect\": -0.0009883638704195619, \"value\": 1.0}, \"4\": {\"effect\": -0.02760038897395134, \"value\": 4.0}, \"5\": {\"effect\": 0.0017914155032485723, \"value\": 44.0}}}, {\"outValue\": 0.23099732398986816, \"simIndex\": 28.0, \"features\": {\"0\": {\"effect\": -0.04152693971991539, \"value\": 0.92}, \"1\": {\"effect\": -0.00030691875144839287, \"value\": 1.0}, \"2\": {\"effect\": -0.00892901886254549, \"value\": 1.0}, \"3\": {\"effect\": 0.004798884503543377, \"value\": 0.0}, \"4\": {\"effect\": -0.06570763140916824, \"value\": 1.0}, \"5\": {\"effect\": 0.0011274733114987612, \"value\": 29.0}}}, {\"outValue\": 0.5386003255844116, \"simIndex\": 11.0, \"features\": {\"0\": {\"effect\": 0.21767885982990265, \"value\": 0.527}, \"1\": {\"effect\": 0.00028081375057809055, \"value\": 1.0}, \"2\": {\"effect\": -0.012344344519078732, \"value\": 1.0}, \"3\": {\"effect\": -0.03642594814300537, \"value\": 2.0}, \"4\": {\"effect\": 0.019599800929427147, \"value\": 0.0}, \"5\": {\"effect\": 0.008269714191555977, \"value\": 55.0}}}, {\"outValue\": 0.234229177236557, \"simIndex\": 49.0, \"features\": {\"0\": {\"effect\": -0.060169998556375504, \"value\": 0.843}, \"1\": {\"effect\": -0.0002990098437294364, \"value\": 1.0}, \"2\": {\"effect\": -0.00831507332623005, \"value\": 1.0}, \"3\": {\"effect\": 0.005361583083868027, \"value\": 0.0}, \"4\": {\"effect\": -0.04486014321446419, \"value\": 1.0}, \"5\": {\"effect\": 0.0009703499963507056, \"value\": 22.0}}}, {\"outValue\": 0.5268828868865967, \"simIndex\": 12.0, \"features\": {\"0\": {\"effect\": 0.20516987144947052, \"value\": 0.624}, \"1\": {\"effect\": 0.0001534340117359534, \"value\": 1.0}, \"2\": {\"effect\": -0.008696269243955612, \"value\": 1.0}, \"3\": {\"effect\": -0.040623873472213745, \"value\": 2.0}, \"4\": {\"effect\": 0.018881922587752342, \"value\": 0.0}, \"5\": {\"effect\": 0.010456334799528122, \"value\": 49.0}}}, {\"outValue\": 0.5536857843399048, \"simIndex\": 16.0, \"features\": {\"0\": {\"effect\": 0.18886999785900116, \"value\": 0.624}, \"1\": {\"effect\": 0.0009329312015324831, \"value\": 1.0}, \"2\": {\"effect\": -0.00772789865732193, \"value\": 1.0}, \"3\": {\"effect\": 0.010518031194806099, \"value\": 0.0}, \"4\": {\"effect\": 0.0231984443962574, \"value\": 0.0}, \"5\": {\"effect\": -0.003647170029580593, \"value\": 23.0}}}, {\"outValue\": 0.23620057106018066, \"simIndex\": 45.0, \"features\": {\"0\": {\"effect\": -0.07261141389608383, \"value\": 0.893}, \"1\": {\"effect\": -0.00031451552058570087, \"value\": 1.0}, \"2\": {\"effect\": -0.007716106716543436, \"value\": 1.0}, \"3\": {\"effect\": -0.002545528579503298, \"value\": 1.0}, \"4\": {\"effect\": -0.02577924355864525, \"value\": 7.0}, \"5\": {\"effect\": 0.00362591166049242, \"value\": 15.0}}}, {\"outValue\": 0.23804572224617004, \"simIndex\": 39.0, \"features\": {\"0\": {\"effect\": -0.04655003547668457, \"value\": 0.92}, \"1\": {\"effect\": 0.002865252550691366, \"value\": 0.0}, \"2\": {\"effect\": -0.008479952812194824, \"value\": 1.0}, \"3\": {\"effect\": 3.887401180691086e-05, \"value\": 1.0}, \"4\": {\"effect\": -0.05101310834288597, \"value\": 7.0}, \"5\": {\"effect\": -0.0003567808889783919, \"value\": 25.0}}}, {\"outValue\": 0.3165847957134247, \"simIndex\": 67.0, \"features\": {\"0\": {\"effect\": -0.06629808992147446, \"value\": 0.8270000000000001}, \"1\": {\"effect\": -2.2943395379115827e-05, \"value\": 1.0}, \"2\": {\"effect\": -0.02132381871342659, \"value\": 1.0}, \"3\": {\"effect\": 0.017308585345745087, \"value\": 0.0}, \"4\": {\"effect\": 0.04474037140607834, \"value\": 0.0}, \"5\": {\"effect\": 0.000639204285107553, \"value\": 4.0}}}, {\"outValue\": 0.5648514032363892, \"simIndex\": 9.0, \"features\": {\"0\": {\"effect\": 0.2418161779642105, \"value\": 0.624}, \"1\": {\"effect\": 0.00036641836049966514, \"value\": 1.0}, \"2\": {\"effect\": -0.0036329568829387426, \"value\": 1.0}, \"3\": {\"effect\": 0.006315975449979305, \"value\": 0.0}, \"4\": {\"effect\": -0.010701673105359077, \"value\": 3.0}, \"5\": {\"effect\": -0.010854018852114677, \"value\": 156.0}}}, {\"outValue\": 0.3999904692173004, \"simIndex\": 94.0, \"features\": {\"0\": {\"effect\": 0.0018870197236537933, \"value\": 0.92}, \"1\": {\"effect\": -0.00012170395348221064, \"value\": 1.0}, \"2\": {\"effect\": -0.014611880294978619, \"value\": 1.0}, \"3\": {\"effect\": 0.0036591344978660345, \"value\": 1.0}, \"4\": {\"effect\": 0.06754270941019058, \"value\": 0.0}, \"5\": {\"effect\": 9.370983752887696e-05, \"value\": 112.0}}}, {\"outValue\": 0.2361275851726532, \"simIndex\": 51.0, \"features\": {\"0\": {\"effect\": -0.06207898259162903, \"value\": 0.855}, \"1\": {\"effect\": -0.00030860703554935753, \"value\": 1.0}, \"2\": {\"effect\": -0.008927663788199425, \"value\": 1.0}, \"3\": {\"effect\": 0.005559845361858606, \"value\": 0.0}, \"4\": {\"effect\": -0.040745023638010025, \"value\": 2.0}, \"5\": {\"effect\": 0.0010865406366065145, \"value\": 39.0}}}, {\"outValue\": 0.592108964920044, \"simIndex\": 8.0, \"features\": {\"0\": {\"effect\": 0.24859142303466797, \"value\": 0.624}, \"1\": {\"effect\": 0.0015329315792769194, \"value\": 1.0}, \"2\": {\"effect\": -0.0042035761289298534, \"value\": 1.0}, \"3\": {\"effect\": 0.008913032710552216, \"value\": 0.0}, \"4\": {\"effect\": -0.006819635629653931, \"value\": 3.0}, \"5\": {\"effect\": 0.002553328638896346, \"value\": 32.0}}}, {\"outValue\": 0.2564256191253662, \"simIndex\": 72.0, \"features\": {\"0\": {\"effect\": -0.102378711104393, \"value\": 0.926}, \"1\": {\"effect\": -9.43742852541618e-05, \"value\": 1.0}, \"2\": {\"effect\": -0.011480371467769146, \"value\": 1.0}, \"3\": {\"effect\": -0.00023673489340581, \"value\": 1.0}, \"4\": {\"effect\": 0.029846087098121643, \"value\": 0.0}, \"5\": {\"effect\": -0.0007717373664490879, \"value\": 110.0}}}, {\"outValue\": 0.22923095524311066, \"simIndex\": 47.0, \"features\": {\"0\": {\"effect\": -0.07328762859106064, \"value\": 0.924}, \"1\": {\"effect\": -0.00040316072409041226, \"value\": 1.0}, \"2\": {\"effect\": -0.00931670144200325, \"value\": 1.0}, \"3\": {\"effect\": 0.003682750044390559, \"value\": 0.0}, \"4\": {\"effect\": -0.032654501497745514, \"value\": 1.0}, \"5\": {\"effect\": -0.0003312787157483399, \"value\": 114.0}}}, {\"outValue\": 0.6235886812210083, \"simIndex\": 10.0, \"features\": {\"0\": {\"effect\": 0.2499980628490448, \"value\": 0.487}, \"1\": {\"effect\": 0.001107413088902831, \"value\": 1.0}, \"2\": {\"effect\": -0.009964694269001484, \"value\": 1.0}, \"3\": {\"effect\": 0.0012268854770809412, \"value\": 1.0}, \"4\": {\"effect\": 0.02611721120774746, \"value\": 0.0}, \"5\": {\"effect\": 0.013562352396547794, \"value\": 52.0}}}, {\"outValue\": 0.22932663559913635, \"simIndex\": 48.0, \"features\": {\"0\": {\"effect\": -0.07274564355611801, \"value\": 0.939}, \"1\": {\"effect\": -0.00027539287111721933, \"value\": 1.0}, \"2\": {\"effect\": -0.007729450706392527, \"value\": 1.0}, \"3\": {\"effect\": 0.0038797054439783096, \"value\": 0.0}, \"4\": {\"effect\": -0.036027636379003525, \"value\": 1.0}, \"5\": {\"effect\": 0.0006835939129814506, \"value\": 34.0}}}, {\"outValue\": 0.23248597979545593, \"simIndex\": 43.0, \"features\": {\"0\": {\"effect\": -0.07839101552963257, \"value\": 0.924}, \"1\": {\"effect\": -0.00029247745987959206, \"value\": 1.0}, \"2\": {\"effect\": -0.009542659856379032, \"value\": 1.0}, \"3\": {\"effect\": 0.0040944539941847324, \"value\": 0.0}, \"4\": {\"effect\": -0.02605062536895275, \"value\": 3.0}, \"5\": {\"effect\": 0.0011268423404544592, \"value\": 48.0}}}, {\"outValue\": 0.2903442084789276, \"simIndex\": 89.0, \"features\": {\"0\": {\"effect\": -0.015653563663363457, \"value\": 0.92}, \"1\": {\"effect\": 0.002021482912823558, \"value\": 0.0}, \"2\": {\"effect\": -0.02110268920660019, \"value\": 1.0}, \"3\": {\"effect\": -0.056135620921850204, \"value\": 3.0}, \"4\": {\"effect\": 0.03934478014707565, \"value\": 0.0}, \"5\": {\"effect\": 0.0003283480182290077, \"value\": 23.0}}}, {\"outValue\": 0.23426802456378937, \"simIndex\": 53.0, \"features\": {\"0\": {\"effect\": -0.0621795579791069, \"value\": 0.897}, \"1\": {\"effect\": -0.0003918612201232463, \"value\": 1.0}, \"2\": {\"effect\": -0.007447658106684685, \"value\": 1.0}, \"3\": {\"effect\": 0.005313321482390165, \"value\": 0.0}, \"4\": {\"effect\": -0.04016867280006409, \"value\": 5.0}, \"5\": {\"effect\": -0.0023990150075405836, \"value\": 88.0}}}, {\"outValue\": 0.4030762016773224, \"simIndex\": 97.0, \"features\": {\"0\": {\"effect\": -0.005310948472470045, \"value\": 0.92}, \"1\": {\"effect\": -2.7482807126943953e-05, \"value\": 1.0}, \"2\": {\"effect\": -0.01888745278120041, \"value\": 1.0}, \"3\": {\"effect\": 0.01453612744808197, \"value\": 0.0}, \"4\": {\"effect\": 0.07061278820037842, \"value\": 0.0}, \"5\": {\"effect\": 0.0006117042503319681, \"value\": 26.0}}}, {\"outValue\": 0.3373803198337555, \"simIndex\": 88.0, \"features\": {\"0\": {\"effect\": -0.018534798175096512, \"value\": 0.698}, \"1\": {\"effect\": -0.001794629031792283, \"value\": 1.0}, \"2\": {\"effect\": 0.0334562323987484, \"value\": 0.0}, \"3\": {\"effect\": -0.06886916607618332, \"value\": 2.0}, \"4\": {\"effect\": 0.049710795283317566, \"value\": 0.0}, \"5\": {\"effect\": 0.001870429958216846, \"value\": 28.0}}}, {\"outValue\": 0.22792881727218628, \"simIndex\": 76.0, \"features\": {\"0\": {\"effect\": -0.07579545676708221, \"value\": 0.899}, \"1\": {\"effect\": -0.00019488112593535334, \"value\": 1.0}, \"2\": {\"effect\": -0.014647044241428375, \"value\": 1.0}, \"3\": {\"effect\": -0.045814745128154755, \"value\": 2.0}, \"4\": {\"effect\": 0.02414126507937908, \"value\": 0.0}, \"5\": {\"effect\": -0.0013017721939831972, \"value\": 108.0}}}, {\"outValue\": 0.5875029563903809, \"simIndex\": 7.0, \"features\": {\"0\": {\"effect\": 0.2470986694097519, \"value\": 0.555}, \"1\": {\"effect\": 0.0014036408392712474, \"value\": 1.0}, \"2\": {\"effect\": -0.007534715812653303, \"value\": 1.0}, \"3\": {\"effect\": 0.01009085401892662, \"value\": 0.0}, \"4\": {\"effect\": -0.014357194304466248, \"value\": 6.0}, \"5\": {\"effect\": 0.009260201826691628, \"value\": 17.0}}}, {\"outValue\": 0.2339102029800415, \"simIndex\": 35.0, \"features\": {\"0\": {\"effect\": -0.04610256478190422, \"value\": 0.92}, \"1\": {\"effect\": -0.00028389625367708504, \"value\": 1.0}, \"2\": {\"effect\": -0.009496180340647697, \"value\": 1.0}, \"3\": {\"effect\": 0.004894063342362642, \"value\": 0.0}, \"4\": {\"effect\": -0.059443388134241104, \"value\": 5.0}, \"5\": {\"effect\": 0.0028007118962705135, \"value\": 37.0}}}, {\"outValue\": 0.4900323152542114, \"simIndex\": 82.0, \"features\": {\"0\": {\"effect\": -0.010982098057866096, \"value\": 0.762}, \"1\": {\"effect\": -0.00018103989714290947, \"value\": 1.0}, \"2\": {\"effect\": 0.05582087114453316, \"value\": 0.0}, \"3\": {\"effect\": 0.023644275963306427, \"value\": 0.0}, \"4\": {\"effect\": 0.07494185119867325, \"value\": 0.0}, \"5\": {\"effect\": 0.005246993154287338, \"value\": 113.0}}}, {\"outValue\": 0.5462225079536438, \"simIndex\": 3.0, \"features\": {\"0\": {\"effect\": 0.23390308022499084, \"value\": 0.624}, \"1\": {\"effect\": 0.000340657978085801, \"value\": 1.0}, \"2\": {\"effect\": -0.003520617028698325, \"value\": 1.0}, \"3\": {\"effect\": -0.0019962661899626255, \"value\": 1.0}, \"4\": {\"effect\": -0.022767627611756325, \"value\": 1.0}, \"5\": {\"effect\": -0.0012781991390511394, \"value\": 92.0}}}, {\"outValue\": 0.3092261254787445, \"simIndex\": 63.0, \"features\": {\"0\": {\"effect\": -0.057194627821445465, \"value\": 0.769}, \"1\": {\"effect\": -3.19735481753014e-05, \"value\": 1.0}, \"2\": {\"effect\": -0.015070691704750061, \"value\": 1.0}, \"3\": {\"effect\": 0.01745440438389778, \"value\": 0.0}, \"4\": {\"effect\": 0.038328446447849274, \"value\": 0.0}, \"5\": {\"effect\": -0.015800900757312775, \"value\": 160.0}}}, {\"outValue\": 0.403076171875, \"simIndex\": 98.0, \"features\": {\"0\": {\"effect\": -0.004626397509127855, \"value\": 0.92}, \"1\": {\"effect\": -8.46990296849981e-05, \"value\": 1.0}, \"2\": {\"effect\": -0.016924777999520302, \"value\": 1.0}, \"3\": {\"effect\": 0.014445125125348568, \"value\": 0.0}, \"4\": {\"effect\": 0.0706549882888794, \"value\": 0.0}, \"5\": {\"effect\": -0.0019295228412374854, \"value\": 148.0}}}, {\"outValue\": 0.23658540844917297, \"simIndex\": 27.0, \"features\": {\"0\": {\"effect\": -0.040334876626729965, \"value\": 0.92}, \"1\": {\"effect\": -0.00021379743702709675, \"value\": 1.0}, \"2\": {\"effect\": -0.008799194358289242, \"value\": 1.0}, \"3\": {\"effect\": 0.00513010798022151, \"value\": 0.0}, \"4\": {\"effect\": -0.06336858123540878, \"value\": 1.0}, \"5\": {\"effect\": 0.002630286617204547, \"value\": 4.0}}}, {\"outValue\": 0.2441893219947815, \"simIndex\": 78.0, \"features\": {\"0\": {\"effect\": -0.06585000455379486, \"value\": 0.856}, \"1\": {\"effect\": -0.00016471279377583414, \"value\": 1.0}, \"2\": {\"effect\": -0.014804827980697155, \"value\": 1.0}, \"3\": {\"effect\": -0.04588937759399414, \"value\": 2.0}, \"4\": {\"effect\": 0.027207858860492706, \"value\": 0.0}, \"5\": {\"effect\": 0.002148928353562951, \"value\": 26.0}}}, {\"outValue\": 0.23788774013519287, \"simIndex\": 46.0, \"features\": {\"0\": {\"effect\": -0.07235997170209885, \"value\": 0.939}, \"1\": {\"effect\": 0.0009923476027324796, \"value\": 0.0}, \"2\": {\"effect\": -0.00795704871416092, \"value\": 1.0}, \"3\": {\"effect\": 0.004128426779061556, \"value\": 0.0}, \"4\": {\"effect\": -0.030324526131153107, \"value\": 4.0}, \"5\": {\"effect\": 0.001867051119916141, \"value\": 7.0}}}, {\"outValue\": 0.2961568534374237, \"simIndex\": 20.0, \"features\": {\"0\": {\"effect\": -0.008075202815234661, \"value\": 0.754}, \"1\": {\"effect\": -0.0001636248780414462, \"value\": 1.0}, \"2\": {\"effect\": -0.005779834929853678, \"value\": 1.0}, \"3\": {\"effect\": 0.0028218997176736593, \"value\": 1.0}, \"4\": {\"effect\": -0.039018869400024414, \"value\": 5.0}, \"5\": {\"effect\": 0.004831024911254644, \"value\": 46.0}}}, {\"outValue\": 0.23390468955039978, \"simIndex\": 57.0, \"features\": {\"0\": {\"effect\": -0.060638029128313065, \"value\": 0.804}, \"1\": {\"effect\": -0.00040946455555967987, \"value\": 1.0}, \"2\": {\"effect\": -0.0063929930329322815, \"value\": 1.0}, \"3\": {\"effect\": -0.003158349310979247, \"value\": 1.0}, \"4\": {\"effect\": -0.034269288182258606, \"value\": 6.0}, \"5\": {\"effect\": -0.0027686527464538813, \"value\": 90.0}}}, {\"outValue\": 0.3322690725326538, \"simIndex\": 65.0, \"features\": {\"0\": {\"effect\": -0.05889942869544029, \"value\": 0.802}, \"1\": {\"effect\": -7.979435031302273e-05, \"value\": 1.0}, \"2\": {\"effect\": -0.019531045109033585, \"value\": 1.0}, \"3\": {\"effect\": 0.01892935112118721, \"value\": 0.0}, \"4\": {\"effect\": 0.05031001195311546, \"value\": 0.0}, \"5\": {\"effect\": -1.4785036910325289e-06, \"value\": 87.0}}}, {\"outValue\": 0.5387407541275024, \"simIndex\": 1.0, \"features\": {\"0\": {\"effect\": 0.21639275550842285, \"value\": 0.624}, \"1\": {\"effect\": 0.0003168929251842201, \"value\": 1.0}, \"2\": {\"effect\": 0.014105090871453285, \"value\": 0.0}, \"3\": {\"effect\": -0.00041079847142100334, \"value\": 1.0}, \"4\": {\"effect\": -0.03473182022571564, \"value\": 1.0}, \"5\": {\"effect\": 0.001527169719338417, \"value\": 75.0}}}, {\"outValue\": 0.23748043179512024, \"simIndex\": 41.0, \"features\": {\"0\": {\"effect\": -0.07835236936807632, \"value\": 0.926}, \"1\": {\"effect\": -0.0016798072028905153, \"value\": 1.0}, \"2\": {\"effect\": -0.0008269066456705332, \"value\": 2.0}, \"3\": {\"effect\": 0.0033738920465111732, \"value\": 0.0}, \"4\": {\"effect\": -0.027866927906870842, \"value\": 3.0}, \"5\": {\"effect\": 0.0012910959776490927, \"value\": 45.0}}}, {\"outValue\": 0.23663462698459625, \"simIndex\": 74.0, \"features\": {\"0\": {\"effect\": -0.08305102586746216, \"value\": 0.926}, \"1\": {\"effect\": -0.0001381930778734386, \"value\": 1.0}, \"2\": {\"effect\": -0.012745223939418793, \"value\": 1.0}, \"3\": {\"effect\": -0.031408511102199554, \"value\": 2.0}, \"4\": {\"effect\": 0.021221928298473358, \"value\": 0.0}, \"5\": {\"effect\": 0.001214180258102715, \"value\": 21.0}}}, {\"outValue\": 0.3363231122493744, \"simIndex\": 64.0, \"features\": {\"0\": {\"effect\": -0.04932432249188423, \"value\": 0.7759999999999999}, \"1\": {\"effect\": -0.0001362385810352862, \"value\": 1.0}, \"2\": {\"effect\": -0.0117624057456851, \"value\": 2.0}, \"3\": {\"effect\": 0.009171975776553154, \"value\": 0.0}, \"4\": {\"effect\": 0.043859731405973434, \"value\": 0.0}, \"5\": {\"effect\": 0.002972917165607214, \"value\": 34.0}}}, {\"outValue\": 0.5207929611206055, \"simIndex\": 86.0, \"features\": {\"0\": {\"effect\": 0.003952709026634693, \"value\": 0.92}, \"1\": {\"effect\": 7.919728523120284e-05, \"value\": 1.0}, \"2\": {\"effect\": 0.06382867693901062, \"value\": 0.0}, \"3\": {\"effect\": 0.020984912291169167, \"value\": 0.0}, \"4\": {\"effect\": 0.08467339724302292, \"value\": 0.0}, \"5\": {\"effect\": 0.005732622463256121, \"value\": 22.0}}}, {\"outValue\": 0.24532963335514069, \"simIndex\": 79.0, \"features\": {\"0\": {\"effect\": -0.06449241936206818, \"value\": 0.91}, \"1\": {\"effect\": -0.00016772019444033504, \"value\": 1.0}, \"2\": {\"effect\": -0.01503872312605381, \"value\": 1.0}, \"3\": {\"effect\": -0.04539398103952408, \"value\": 2.0}, \"4\": {\"effect\": 0.026553962379693985, \"value\": 0.0}, \"5\": {\"effect\": 0.0023270417004823685, \"value\": 16.0}}}, {\"outValue\": 0.49113011360168457, \"simIndex\": 84.0, \"features\": {\"0\": {\"effect\": -0.00897974707186222, \"value\": 0.682}, \"1\": {\"effect\": -0.00016244234575424343, \"value\": 1.0}, \"2\": {\"effect\": 0.05745912343263626, \"value\": 0.0}, \"3\": {\"effect\": 0.02479674480855465, \"value\": 0.0}, \"4\": {\"effect\": 0.0745391994714737, \"value\": 0.0}, \"5\": {\"effect\": 0.001935784355737269, \"value\": 68.0}}}, {\"outValue\": 0.22664877772331238, \"simIndex\": 29.0, \"features\": {\"0\": {\"effect\": -0.041774388402700424, \"value\": 0.92}, \"1\": {\"effect\": -0.00030691875144839287, \"value\": 1.0}, \"2\": {\"effect\": -0.009098244830965996, \"value\": 1.0}, \"3\": {\"effect\": 0.004798884503543377, \"value\": 0.0}, \"4\": {\"effect\": -0.06635040789842606, \"value\": 1.0}, \"5\": {\"effect\": -0.002161629730835557, \"value\": 26.0}}}, {\"outValue\": 0.23398318886756897, \"simIndex\": 52.0, \"features\": {\"0\": {\"effect\": -0.06589031964540482, \"value\": 0.91}, \"1\": {\"effect\": -0.000273713783826679, \"value\": 1.0}, \"2\": {\"effect\": -0.008715851232409477, \"value\": 1.0}, \"3\": {\"effect\": 0.005459447391331196, \"value\": 0.0}, \"4\": {\"effect\": -0.03966915234923363, \"value\": 6.0}, \"5\": {\"effect\": 0.0015313049079850316, \"value\": 16.0}}}, {\"outValue\": 0.3018462657928467, \"simIndex\": 21.0, \"features\": {\"0\": {\"effect\": -0.008385983295738697, \"value\": 0.698}, \"1\": {\"effect\": -0.0004044738598167896, \"value\": 1.0}, \"2\": {\"effect\": -0.0017523284768685699, \"value\": 2.0}, \"3\": {\"effect\": 0.004564108792692423, \"value\": 0.0}, \"4\": {\"effect\": -0.03830808773636818, \"value\": 3.0}, \"5\": {\"effect\": 0.004591562319546938, \"value\": 139.0}}}, {\"outValue\": 0.4021432399749756, \"simIndex\": 99.0, \"features\": {\"0\": {\"effect\": -0.004695176612585783, \"value\": 0.92}, \"1\": {\"effect\": -8.46990296849981e-05, \"value\": 1.0}, \"2\": {\"effect\": -0.016999714076519012, \"value\": 1.0}, \"3\": {\"effect\": 0.014298046007752419, \"value\": 0.0}, \"4\": {\"effect\": 0.07047057151794434, \"value\": 0.0}, \"5\": {\"effect\": -0.002387244952842593, \"value\": 155.0}}}, {\"outValue\": 0.5624534487724304, \"simIndex\": 14.0, \"features\": {\"0\": {\"effect\": 0.19300596415996552, \"value\": 0.624}, \"1\": {\"effect\": 0.0011250493116676807, \"value\": 1.0}, \"2\": {\"effect\": -0.007544460706412792, \"value\": 1.0}, \"3\": {\"effect\": 0.00916735827922821, \"value\": 0.0}, \"4\": {\"effect\": 0.023373862728476524, \"value\": 0.0}, \"5\": {\"effect\": 0.0017842197557911277, \"value\": 59.0}}}, {\"outValue\": 0.2338162362575531, \"simIndex\": 73.0, \"features\": {\"0\": {\"effect\": -0.08559758216142654, \"value\": 0.926}, \"1\": {\"effect\": -0.00016454722208436579, \"value\": 1.0}, \"2\": {\"effect\": -0.014908194541931152, \"value\": 1.0}, \"3\": {\"effect\": -0.02929387427866459, \"value\": 2.0}, \"4\": {\"effect\": 0.021754182875156403, \"value\": 0.0}, \"5\": {\"effect\": 0.00048479443648830056, \"value\": 84.0}}}, {\"outValue\": 0.24115782976150513, \"simIndex\": 37.0, \"features\": {\"0\": {\"effect\": -0.038634154945611954, \"value\": 0.92}, \"1\": {\"effect\": 0.004301586654037237, \"value\": 0.0}, \"2\": {\"effect\": -0.007054354064166546, \"value\": 1.0}, \"3\": {\"effect\": -0.00015572813572362065, \"value\": 1.0}, \"4\": {\"effect\": -0.05753452330827713, \"value\": 4.0}, \"5\": {\"effect\": -0.0013064570957794785, \"value\": 106.0}}}, {\"outValue\": 0.5682412981987, \"simIndex\": 2.0, \"features\": {\"0\": {\"effect\": 0.23984146118164062, \"value\": 0.624}, \"1\": {\"effect\": 0.0012101141037419438, \"value\": 1.0}, \"2\": {\"effect\": -0.004081327468156815, \"value\": 1.0}, \"3\": {\"effect\": -0.003711969591677189, \"value\": 1.0}, \"4\": {\"effect\": -0.016400299966335297, \"value\": 5.0}, \"5\": {\"effect\": 0.0098418565467, \"value\": 30.0}}}, {\"outValue\": 0.22972476482391357, \"simIndex\": 56.0, \"features\": {\"0\": {\"effect\": -0.06501048058271408, \"value\": 0.897}, \"1\": {\"effect\": -0.0003900351875927299, \"value\": 1.0}, \"2\": {\"effect\": -0.006511183921247721, \"value\": 1.0}, \"3\": {\"effect\": -0.0020401182118803263, \"value\": 1.0}, \"4\": {\"effect\": -0.03409052640199661, \"value\": 2.0}, \"5\": {\"effect\": -0.0037743530701845884, \"value\": 72.0}}}, {\"outValue\": 0.22335471212863922, \"simIndex\": 75.0, \"features\": {\"0\": {\"effect\": -0.07501181215047836, \"value\": 0.91}, \"1\": {\"effect\": -0.00017879458027891815, \"value\": 1.0}, \"2\": {\"effect\": -0.009308088570833206, \"value\": 1.0}, \"3\": {\"effect\": -0.04130184277892113, \"value\": 3.0}, \"4\": {\"effect\": 0.01871335506439209, \"value\": 0.0}, \"5\": {\"effect\": -0.011099578812718391, \"value\": 163.0}}}, {\"outValue\": 0.4561728835105896, \"simIndex\": 87.0, \"features\": {\"0\": {\"effect\": 0.012031271122395992, \"value\": 0.92}, \"1\": {\"effect\": -0.00013110091094858944, \"value\": 1.0}, \"2\": {\"effect\": 0.066178098320961, \"value\": 0.0}, \"3\": {\"effect\": -0.0436069555580616, \"value\": 2.0}, \"4\": {\"effect\": 0.06830557435750961, \"value\": 0.0}, \"5\": {\"effect\": 0.011854545213282108, \"value\": 111.0}}}, {\"outValue\": 0.3001290559768677, \"simIndex\": 91.0, \"features\": {\"0\": {\"effect\": -0.010958410799503326, \"value\": 0.92}, \"1\": {\"effect\": -0.00019569108553696424, \"value\": 1.0}, \"2\": {\"effect\": -0.022657694295048714, \"value\": 1.0}, \"3\": {\"effect\": -0.05497908219695091, \"value\": 2.0}, \"4\": {\"effect\": 0.046239010989665985, \"value\": 0.0}, \"5\": {\"effect\": 0.0011394659522920847, \"value\": 133.0}}}, {\"outValue\": 0.23205065727233887, \"simIndex\": 54.0, \"features\": {\"0\": {\"effect\": -0.06402719020843506, \"value\": 0.91}, \"1\": {\"effect\": -0.0004100889200344682, \"value\": 1.0}, \"2\": {\"effect\": -0.007821368053555489, \"value\": 1.0}, \"3\": {\"effect\": 0.005358499474823475, \"value\": 0.0}, \"4\": {\"effect\": -0.03675610199570656, \"value\": 7.0}, \"5\": {\"effect\": -0.00583456689491868, \"value\": 157.0}}}, {\"outValue\": 0.2339102327823639, \"simIndex\": 34.0, \"features\": {\"0\": {\"effect\": -0.04586813598871231, \"value\": 0.92}, \"1\": {\"effect\": -0.00029252280364744365, \"value\": 1.0}, \"2\": {\"effect\": -0.009501911699771881, \"value\": 1.0}, \"3\": {\"effect\": 0.005253849551081657, \"value\": 0.0}, \"4\": {\"effect\": -0.059194259345531464, \"value\": 4.0}, \"5\": {\"effect\": 0.001971741672605276, \"value\": 42.0}}}, {\"outValue\": 0.23912444710731506, \"simIndex\": 60.0, \"features\": {\"0\": {\"effect\": -0.06610417366027832, \"value\": 0.895}, \"1\": {\"effect\": -0.0012666448019444942, \"value\": 1.0}, \"2\": {\"effect\": -0.0011369134299457073, \"value\": 2.0}, \"3\": {\"effect\": -0.0031105182133615017, \"value\": 1.0}, \"4\": {\"effect\": -0.03248777613043785, \"value\": 4.0}, \"5\": {\"effect\": 0.001689004129730165, \"value\": 18.0}}}, {\"outValue\": 0.37958064675331116, \"simIndex\": 92.0, \"features\": {\"0\": {\"effect\": -0.008508100174367428, \"value\": 0.698}, \"1\": {\"effect\": -0.0001805781648727134, \"value\": 1.0}, \"2\": {\"effect\": -0.017907630652189255, \"value\": 1.0}, \"3\": {\"effect\": 0.011990134604275227, \"value\": 0.0}, \"4\": {\"effect\": 0.050756338983774185, \"value\": 0.0}, \"5\": {\"effect\": 0.0018890064675360918, \"value\": 91.0}}}, {\"outValue\": 0.3337573707103729, \"simIndex\": 19.0, \"features\": {\"0\": {\"effect\": 0.004222334362566471, \"value\": 0.698}, \"1\": {\"effect\": -0.00019443330529611558, \"value\": 1.0}, \"2\": {\"effect\": -0.0059509421698749065, \"value\": 1.0}, \"3\": {\"effect\": 0.0030954224057495594, \"value\": 1.0}, \"4\": {\"effect\": -0.02883274108171463, \"value\": 3.0}, \"5\": {\"effect\": 0.0198762696236372, \"value\": 29.0}}}, {\"outValue\": 0.5207929611206055, \"simIndex\": 85.0, \"features\": {\"0\": {\"effect\": 0.0028169648721814156, \"value\": 0.92}, \"1\": {\"effect\": 0.00011187844938831404, \"value\": 1.0}, \"2\": {\"effect\": 0.06308634579181671, \"value\": 0.0}, \"3\": {\"effect\": 0.020810652524232864, \"value\": 0.0}, \"4\": {\"effect\": 0.08592934906482697, \"value\": 0.0}, \"5\": {\"effect\": 0.006496323738247156, \"value\": 50.0}}}, {\"outValue\": 0.2833346128463745, \"simIndex\": 80.0, \"features\": {\"0\": {\"effect\": -0.06843192875385284, \"value\": 0.91}, \"1\": {\"effect\": -0.0001514520845375955, \"value\": 1.0}, \"2\": {\"effect\": 0.040504999458789825, \"value\": 0.0}, \"3\": {\"effect\": -0.06820214539766312, \"value\": 2.0}, \"4\": {\"effect\": 0.03576352447271347, \"value\": 0.0}, \"5\": {\"effect\": 0.002310148673132062, \"value\": 78.0}}}, {\"outValue\": 0.23727083206176758, \"simIndex\": 58.0, \"features\": {\"0\": {\"effect\": -0.06351920962333679, \"value\": 0.91}, \"1\": {\"effect\": -0.0003399801498744637, \"value\": 1.0}, \"2\": {\"effect\": -0.0074991933070123196, \"value\": 1.0}, \"3\": {\"effect\": -0.001923740841448307, \"value\": 1.0}, \"4\": {\"effect\": -0.03293586149811745, \"value\": 2.0}, \"5\": {\"effect\": 0.0019473364809527993, \"value\": 18.0}}}, {\"outValue\": 0.24202531576156616, \"simIndex\": 24.0, \"features\": {\"0\": {\"effect\": -0.029662739485502243, \"value\": 0.727}, \"1\": {\"effect\": -5.953955042059533e-05, \"value\": 1.0}, \"2\": {\"effect\": -0.007799276150763035, \"value\": 1.0}, \"3\": {\"effect\": 0.005990772508084774, \"value\": 0.0}, \"4\": {\"effect\": -0.063715361058712, \"value\": 1.0}, \"5\": {\"effect\": -0.004270016681402922, \"value\": 22.0}}}, {\"outValue\": 0.556816041469574, \"simIndex\": 5.0, \"features\": {\"0\": {\"effect\": 0.24185824394226074, \"value\": 0.55}, \"1\": {\"effect\": 0.00042222841875627637, \"value\": 1.0}, \"2\": {\"effect\": -0.006957438308745623, \"value\": 1.0}, \"3\": {\"effect\": 0.003967715427279472, \"value\": 0.0}, \"4\": {\"effect\": -0.02491609938442707, \"value\": 1.0}, \"5\": {\"effect\": 0.0008999205892905593, \"value\": 107.0}}}, {\"outValue\": 0.23972386121749878, \"simIndex\": 25.0, \"features\": {\"0\": {\"effect\": -0.03286854550242424, \"value\": 0.762}, \"1\": {\"effect\": -0.00022505746164824814, \"value\": 1.0}, \"2\": {\"effect\": -0.006884674075990915, \"value\": 1.0}, \"3\": {\"effect\": 0.002824208000674844, \"value\": 1.0}, \"4\": {\"effect\": -0.061012543737888336, \"value\": 2.0}, \"5\": {\"effect\": -0.0036509919445961714, \"value\": 12.0}}}, {\"outValue\": 0.3165847659111023, \"simIndex\": 69.0, \"features\": {\"0\": {\"effect\": -0.06883738189935684, \"value\": 0.855}, \"1\": {\"effect\": -2.5067429305636324e-05, \"value\": 1.0}, \"2\": {\"effect\": -0.02122250758111477, \"value\": 1.0}, \"3\": {\"effect\": 0.016619578003883362, \"value\": 0.0}, \"4\": {\"effect\": 0.046233996748924255, \"value\": 0.0}, \"5\": {\"effect\": 0.00227467343211174, \"value\": 28.0}}}, {\"outValue\": 0.23719380795955658, \"simIndex\": 77.0, \"features\": {\"0\": {\"effect\": -0.07059063762426376, \"value\": 0.804}, \"1\": {\"effect\": 0.0024750004522502422, \"value\": 0.0}, \"2\": {\"effect\": -0.013816757127642632, \"value\": 1.0}, \"3\": {\"effect\": -0.043863445520401, \"value\": 3.0}, \"4\": {\"effect\": 0.02200307510793209, \"value\": 0.0}, \"5\": {\"effect\": -0.0005548939225263894, \"value\": 91.0}}}, {\"outValue\": 0.37958064675331116, \"simIndex\": 93.0, \"features\": {\"0\": {\"effect\": -0.00715750502422452, \"value\": 0.698}, \"1\": {\"effect\": -0.00012557936133816838, \"value\": 1.0}, \"2\": {\"effect\": -0.007132516708225012, \"value\": 2.0}, \"3\": {\"effect\": -0.0031225334387272596, \"value\": 0.0}, \"4\": {\"effect\": 0.05192402005195618, \"value\": 0.0}, \"5\": {\"effect\": 0.003653289983049035, \"value\": 46.0}}}, {\"outValue\": 0.2389046847820282, \"simIndex\": 40.0, \"features\": {\"0\": {\"effect\": -0.03914182260632515, \"value\": 0.92}, \"1\": {\"effect\": -0.0017811385914683342, \"value\": 1.0}, \"2\": {\"effect\": 0.0021847651805728674, \"value\": 2.0}, \"3\": {\"effect\": -0.015926504507660866, \"value\": 2.0}, \"4\": {\"effect\": -0.050377801060676575, \"value\": 5.0}, \"5\": {\"effect\": 0.0024057207629084587, \"value\": 36.0}}}, {\"outValue\": 0.23955801129341125, \"simIndex\": 26.0, \"features\": {\"0\": {\"effect\": -0.03605044260621071, \"value\": 0.92}, \"1\": {\"effect\": 0.0026219673454761505, \"value\": 0.0}, \"2\": {\"effect\": -0.009374872781336308, \"value\": 1.0}, \"3\": {\"effect\": 0.0045317718759179115, \"value\": 0.0}, \"4\": {\"effect\": -0.0637611523270607, \"value\": 1.0}, \"5\": {\"effect\": 4.927040936308913e-05, \"value\": 40.0}}}, {\"outValue\": 0.3001290559768677, \"simIndex\": 90.0, \"features\": {\"0\": {\"effect\": -0.014938278123736382, \"value\": 0.92}, \"1\": {\"effect\": -0.00019569108553696424, \"value\": 1.0}, \"2\": {\"effect\": -0.02067810483276844, \"value\": 1.0}, \"3\": {\"effect\": -0.053413618355989456, \"value\": 2.0}, \"4\": {\"effect\": 0.04520693048834801, \"value\": 0.0}, \"5\": {\"effect\": 0.0026063635013997555, \"value\": 90.0}}}, {\"outValue\": 0.5570318102836609, \"simIndex\": 17.0, \"features\": {\"0\": {\"effect\": 0.17444759607315063, \"value\": 0.624}, \"1\": {\"effect\": 7.650753104826435e-05, \"value\": 1.0}, \"2\": {\"effect\": 0.018330389633774757, \"value\": 0.0}, \"3\": {\"effect\": -0.0061225988902151585, \"value\": 1.0}, \"4\": {\"effect\": 0.031771305948495865, \"value\": 0.0}, \"5\": {\"effect\": -0.003012837376445532, \"value\": 146.0}}}, {\"outValue\": 0.23398317396640778, \"simIndex\": 33.0, \"features\": {\"0\": {\"effect\": -0.04430101439356804, \"value\": 0.92}, \"1\": {\"effect\": -0.0002729879051912576, \"value\": 1.0}, \"2\": {\"effect\": -0.008899912238121033, \"value\": 1.0}, \"3\": {\"effect\": 0.005102616269141436, \"value\": 0.0}, \"4\": {\"effect\": -0.059933558106422424, \"value\": 4.0}, \"5\": {\"effect\": 0.000746566045563668, \"value\": 22.0}}}, {\"outValue\": 0.23205065727233887, \"simIndex\": 32.0, \"features\": {\"0\": {\"effect\": -0.046549372375011444, \"value\": 0.92}, \"1\": {\"effect\": -0.00040976505260914564, \"value\": 1.0}, \"2\": {\"effect\": -0.006094138137996197, \"value\": 1.0}, \"3\": {\"effect\": 0.0049646091647446156, \"value\": 0.0}, \"4\": {\"effect\": -0.05543755739927292, \"value\": 7.0}, \"5\": {\"effect\": -0.005964585114270449, \"value\": 192.0}}}, {\"outValue\": 0.23667410016059875, \"simIndex\": 62.0, \"features\": {\"0\": {\"effect\": -0.05858799070119858, \"value\": 0.897}, \"1\": {\"effect\": -0.00035652212682180107, \"value\": 1.0}, \"2\": {\"effect\": -0.007493535988032818, \"value\": 1.0}, \"3\": {\"effect\": -0.01972845010459423, \"value\": 2.0}, \"4\": {\"effect\": -0.020233405753970146, \"value\": 3.0}, \"5\": {\"effect\": 0.0015325294807553291, \"value\": 30.0}}}, {\"outValue\": 0.23727083206176758, \"simIndex\": 38.0, \"features\": {\"0\": {\"effect\": -0.04081268236041069, \"value\": 0.92}, \"1\": {\"effect\": -0.00033925421303138137, \"value\": 1.0}, \"2\": {\"effect\": -0.007960704155266285, \"value\": 1.0}, \"3\": {\"effect\": 0.00025994249153882265, \"value\": 1.0}, \"4\": {\"effect\": -0.05768613889813423, \"value\": 2.0}, \"5\": {\"effect\": 0.0022681881673634052, \"value\": 24.0}}}, {\"outValue\": 0.24292254447937012, \"simIndex\": 22.0, \"features\": {\"0\": {\"effect\": -0.039753083139657974, \"value\": 0.6890000000000001}, \"1\": {\"effect\": -3.381783244549297e-05, \"value\": 1.0}, \"2\": {\"effect\": -0.007502307184040546, \"value\": 1.0}, \"3\": {\"effect\": 0.0063056135550141335, \"value\": 0.0}, \"4\": {\"effect\": -0.04087372124195099, \"value\": 6.0}, \"5\": {\"effect\": -0.01676161028444767, \"value\": 4.0}}}, {\"outValue\": 0.23205065727233887, \"simIndex\": 31.0, \"features\": {\"0\": {\"effect\": -0.042417701333761215, \"value\": 0.92}, \"1\": {\"effect\": -0.00040649669244885445, \"value\": 1.0}, \"2\": {\"effect\": -0.004074887838214636, \"value\": 1.0}, \"3\": {\"effect\": 0.004594466183334589, \"value\": 0.0}, \"4\": {\"effect\": -0.05974961817264557, \"value\": 6.0}, \"5\": {\"effect\": -0.007436584215611219, \"value\": 163.0}}}, {\"outValue\": 0.560145378112793, \"simIndex\": 15.0, \"features\": {\"0\": {\"effect\": 0.1919911503791809, \"value\": 0.624}, \"1\": {\"effect\": 0.0009329312015324831, \"value\": 1.0}, \"2\": {\"effect\": -0.007731526158750057, \"value\": 1.0}, \"3\": {\"effect\": 0.010261277668178082, \"value\": 0.0}, \"4\": {\"effect\": 0.02211042307317257, \"value\": 0.0}, \"5\": {\"effect\": 0.0010396231664344668, \"value\": 28.0}}}, {\"outValue\": 0.23768433928489685, \"simIndex\": 23.0, \"features\": {\"0\": {\"effect\": -0.04167485982179642, \"value\": 0.743}, \"1\": {\"effect\": -0.00018188338435720652, \"value\": 1.0}, \"2\": {\"effect\": -0.006907979026436806, \"value\": 1.0}, \"3\": {\"effect\": 0.002582340966910124, \"value\": 1.0}, \"4\": {\"effect\": -0.048601895570755005, \"value\": 2.0}, \"5\": {\"effect\": -0.00907286349684, \"value\": 6.0}}}, {\"outValue\": 0.23967400193214417, \"simIndex\": 50.0, \"features\": {\"0\": {\"effect\": -0.06089607998728752, \"value\": 0.802}, \"1\": {\"effect\": -0.00013259814295452088, \"value\": 1.0}, \"2\": {\"effect\": -0.007999212481081486, \"value\": 1.0}, \"3\": {\"effect\": 0.005882777739316225, \"value\": 0.0}, \"4\": {\"effect\": -0.04156547784805298, \"value\": 6.0}, \"5\": {\"effect\": 0.0028431282844394445, \"value\": 4.0}}}, {\"outValue\": 0.31773462891578674, \"simIndex\": 70.0, \"features\": {\"0\": {\"effect\": -0.06962645798921585, \"value\": 0.866}, \"1\": {\"effect\": -0.00018714679754339159, \"value\": 1.0}, \"2\": {\"effect\": -0.014079729095101357, \"value\": 2.0}, \"3\": {\"effect\": 0.011018692515790462, \"value\": 0.0}, \"4\": {\"effect\": 0.046854276210069656, \"value\": 0.0}, \"5\": {\"effect\": 0.002213531406596303, \"value\": 30.0}}}, {\"outValue\": 0.4030762016773224, \"simIndex\": 96.0, \"features\": {\"0\": {\"effect\": -0.0011791745200753212, \"value\": 0.92}, \"1\": {\"effect\": -0.0007689996855333447, \"value\": 0.0}, \"2\": {\"effect\": -0.018814820796251297, \"value\": 1.0}, \"3\": {\"effect\": 0.013843495398759842, \"value\": 0.0}, \"4\": {\"effect\": 0.06787370145320892, \"value\": 0.0}, \"5\": {\"effect\": 0.0005805293330922723, \"value\": 52.0}}}, {\"outValue\": 0.3322690427303314, \"simIndex\": 66.0, \"features\": {\"0\": {\"effect\": -0.0592656284570694, \"value\": 0.794}, \"1\": {\"effect\": 5.623285687761381e-06, \"value\": 1.0}, \"2\": {\"effect\": -0.019771533086895943, \"value\": 1.0}, \"3\": {\"effect\": 0.016836004331707954, \"value\": 0.0}, \"4\": {\"effect\": 0.05004003643989563, \"value\": 0.0}, \"5\": {\"effect\": 0.0028830752708017826, \"value\": 37.0}}}], \"plot_cmap\": \"RdBu\", \"ordering_keys\": null, \"ordering_keys_time_format\": null}),\n",
       "    document.getElementById('iF70175OU7YEH73PL1C9L')\n",
       "  );\n",
       "</script>"
      ],
      "text/plain": [
       "<shap.plots._force.AdditiveForceArrayVisualizer at 0x239a2cc5130>"
      ]
     },
     "execution_count": 57,
     "metadata": {},
     "output_type": "execute_result"
    }
   ],
   "source": [
    "shap.force_plot(explainer.expected_value, shap_values[:100,:], X_train.iloc[:100,:])"
   ]
  },
  {
   "cell_type": "code",
   "execution_count": null,
   "metadata": {},
   "outputs": [],
   "source": []
  }
 ],
 "metadata": {
  "kernelspec": {
   "display_name": "Python 3",
   "language": "python",
   "name": "python3"
  },
  "language_info": {
   "codemirror_mode": {
    "name": "ipython",
    "version": 3
   },
   "file_extension": ".py",
   "mimetype": "text/x-python",
   "name": "python",
   "nbconvert_exporter": "python",
   "pygments_lexer": "ipython3",
   "version": "3.8.5"
  }
 },
 "nbformat": 4,
 "nbformat_minor": 4
}
